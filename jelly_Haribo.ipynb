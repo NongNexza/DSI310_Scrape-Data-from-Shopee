{
 "cells": [
  {
   "cell_type": "markdown",
   "id": "dd38774b",
   "metadata": {},
   "source": [
    "# Install package ที่จำเป็นต้องใช้"
   ]
  },
  {
   "cell_type": "code",
   "execution_count": null,
   "id": "3ab0df40",
   "metadata": {
    "scrolled": true
   },
   "outputs": [],
   "source": [
    "!pip install selenium #selenium\n",
    "!pip install bs4 #beautiful soup"
   ]
  },
  {
   "cell_type": "markdown",
   "id": "59a2d630",
   "metadata": {},
   "source": [
    "# Import function ที่จำเป็น"
   ]
  },
  {
   "cell_type": "code",
   "execution_count": null,
   "id": "c9366b0e",
   "metadata": {},
   "outputs": [],
   "source": [
    "import pandas as pd\n",
    "from selenium import webdriver\n",
    "from selenium.webdriver.firefox.options import Options\n",
    "from selenium.webdriver.common.keys import Keys\n",
    "import bs4\n",
    "import time\n",
    "import re"
   ]
  },
  {
   "cell_type": "markdown",
   "id": "88e70010",
   "metadata": {},
   "source": [
    "# สร้าง Web driver ของ Firefox"
   ]
  },
  {
   "cell_type": "code",
   "execution_count": null,
   "id": "5f272fee",
   "metadata": {},
   "outputs": [],
   "source": [
    "options = Options()\n",
    "options.binary_location = r'C:\\Program Files\\Mozilla Firefox\\firefox.exe'\n",
    "driver = webdriver.Firefox(executable_path=r'C:\\Users\\G15\\Downloads\\shoppee\\geckodriver.exe', options=options)\n",
    "driver.get('https://shopee.co.th/search?brands=2240042&keyword=%E0%B8%82%E0%B8%99%E0%B8%A1%E0%B9%80%E0%B8%88%E0%B8%A5%E0%B8%A5%E0%B8%B5%E0%B9%88%20haribo&noCorrection=true&page=0&sortBy=sales')"
   ]
  },
  {
   "cell_type": "markdown",
   "id": "247d58be",
   "metadata": {},
   "source": [
    "ใช้ Selenium ในการเลือกภาษาและ Zoomout page เพื่อโหลดข้อมูล"
   ]
  },
  {
   "cell_type": "code",
   "execution_count": null,
   "id": "e7072a81",
   "metadata": {},
   "outputs": [],
   "source": [
    "#เลือกภาษาไทย Selenium\n",
    "thai_button = driver.find_element(\"xpath\",'/html/body/div[2]/div[1]/div[1]/div/div[3]/div[1]/button').click()\n",
    "time.sleep(6)"
   ]
  },
  {
   "cell_type": "code",
   "execution_count": null,
   "id": "9d04c9fe",
   "metadata": {},
   "outputs": [],
   "source": [
    "#Zoom out เพื่อให้ load ทั่วหน้าจอ\n",
    "driver.execute_script(\"document.body.style.MozTransform='scale(0.1)';\")\n",
    "driver.execute_script('document.body.style.MozTransformOrigin = \"0 0\";')"
   ]
  },
  {
   "cell_type": "markdown",
   "id": "f4e13c94",
   "metadata": {},
   "source": [
    "# เริ่มต้นขั้นตอน Scraping"
   ]
  },
  {
   "cell_type": "code",
   "execution_count": null,
   "id": "d8a60549",
   "metadata": {},
   "outputs": [],
   "source": [
    "data = driver.page_source #ดึงข้อมูลจากหน้าเว็บ\n",
    "soup = bs4.BeautifulSoup(data) #จัดในรูปแบบ BeautifulSoup\n",
    "time.sleep(6)"
   ]
  },
  {
   "cell_type": "code",
   "execution_count": null,
   "id": "93481a5f",
   "metadata": {},
   "outputs": [],
   "source": [
    "soup.select(\".row>div\") #css selector"
   ]
  },
  {
   "cell_type": "code",
   "execution_count": null,
   "id": "0b366541",
   "metadata": {},
   "outputs": [],
   "source": [
    "el=soup.select(\".row>div\")"
   ]
  },
  {
   "cell_type": "code",
   "execution_count": 12,
   "id": "14f975dc",
   "metadata": {},
   "outputs": [
    {
     "ename": "NameError",
     "evalue": "name 'el' is not defined",
     "output_type": "error",
     "traceback": [
      "\u001b[1;31m---------------------------------------------------------------------------\u001b[0m",
      "\u001b[1;31mNameError\u001b[0m                                 Traceback (most recent call last)",
      "\u001b[1;32mc:\\Users\\beam_\\Desktop\\Project 314\\jelly_Haribo.ipynb Cell 14\u001b[0m in \u001b[0;36m<cell line: 1>\u001b[1;34m()\u001b[0m\n\u001b[1;32m----> <a href='vscode-notebook-cell:/c%3A/Users/beam_/Desktop/Project%20314/jelly_Haribo.ipynb#X13sZmlsZQ%3D%3D?line=0'>1</a>\u001b[0m \u001b[39mlen\u001b[39m(el)\n",
      "\u001b[1;31mNameError\u001b[0m: name 'el' is not defined"
     ]
    }
   ],
   "source": [
    "len(el)"
   ]
  },
  {
   "cell_type": "markdown",
   "id": "934c0218",
   "metadata": {},
   "source": [
    "ทดลอง Scrap ชื่อสินค้า"
   ]
  },
  {
   "cell_type": "code",
   "execution_count": null,
   "id": "c36a2a64",
   "metadata": {},
   "outputs": [],
   "source": [
    "e = el[0] #แทนกล่องของสินค้าแต่ละกล่อง"
   ]
  },
  {
   "cell_type": "code",
   "execution_count": null,
   "id": "5aa138c9",
   "metadata": {},
   "outputs": [],
   "source": [
    "#ดึงข้อมูลชื่อ\n",
    "e.select_one(\"div.col-xs-2-4:nth-child(1) > a:nth-child(1) > div:nth-child(1) > div:nth-child(1) > div:nth-child(2) > div:nth-child(1)\").text.strip()"
   ]
  },
  {
   "cell_type": "markdown",
   "id": "10fdc740",
   "metadata": {},
   "source": [
    "ทอลอง Scrap ราคา"
   ]
  },
  {
   "cell_type": "code",
   "execution_count": null,
   "id": "ab09d5f5",
   "metadata": {},
   "outputs": [],
   "source": [
    "#ราคา A baht - B baht, ราคาเต็ม\n",
    "e.select_one(\"div.col-xs-2-4:nth-child(1) > a:nth-child(1) > div:nth-child(1) > div:nth-child(1) > div:nth-child(2) > div:nth-child(2)\").text.strip()"
   ]
  },
  {
   "cell_type": "code",
   "execution_count": null,
   "id": "eb07263a",
   "metadata": {},
   "outputs": [],
   "source": [
    "#รวม ราคาถูกสุด\n",
    "try:\n",
    "    p = e.select_one(\"div.col-xs-2-4:nth-child(1) > a:nth-child(1) > div:nth-child(1) > div:nth-child(1) > div:nth-child(2) > div:nth-child(2)\").text.strip()\n",
    "except:\n",
    "    p = e.select_one(\"div.col-xs-2-4:nth-child(1) > a:nth-child(1) > div:nth-child(1) > div:nth-child(1) > div:nth-child(2) > div:nth-child(2)\").text.strip()\n",
    "p = p.replace(\",\", \"\").replace(\"฿\", \"\").replace(\" \", \"\")\n",
    "try:\n",
    "    start_price = float(p)\n",
    "except:\n",
    "    price = p.rpartition('-')[0]\n",
    "    start_price = float(price)\n",
    "\n",
    "start_price"
   ]
  },
  {
   "cell_type": "markdown",
   "id": "db8e5cd0",
   "metadata": {},
   "source": [
    "ทดลอง Scrap ยอดขาย\n"
   ]
  },
  {
   "cell_type": "code",
   "execution_count": null,
   "id": "6f91afff",
   "metadata": {},
   "outputs": [],
   "source": [
    "#Scrape ยอดขาย\n",
    "sales = e.select_one(\"div.col-xs-2-4:nth-child(1) > a:nth-child(1) > div:nth-child(1) > div:nth-child(1) > div:nth-child(2) > div:nth-child(3) > div:nth-child(2)\").text.strip().replace(\"พัน\",\"000\").replace(\"ล้าน\",\"000000\")\n",
    "try:\n",
    "    sales = float(re.sub('\\D','',sales))\n",
    "except:\n",
    "    sales = 0\n",
    "sales"
   ]
  },
  {
   "cell_type": "markdown",
   "id": "0bf7bfb6",
   "metadata": {},
   "source": [
    "ทดลอง Scrap จังหวัด"
   ]
  },
  {
   "cell_type": "code",
   "execution_count": null,
   "id": "c394b481",
   "metadata": {},
   "outputs": [],
   "source": [
    "#Scrape จังหวัด\n",
    "#จังหวัด\n",
    "e.select_one(\"div.col-xs-2-4:nth-child(1) > a:nth-child(1) > div:nth-child(1) > div:nth-child(1) > div:nth-child(2) > div:nth-child(4)\").text.strip()"
   ]
  },
  {
   "cell_type": "markdown",
   "id": "5427ae7b",
   "metadata": {},
   "source": [
    "## นำทั้งหมดมาเข้า Loop เพื่อ Scrap ทุกๆสินค้าในทุกๆหน้า"
   ]
  },
  {
   "cell_type": "code",
   "execution_count": null,
   "id": "f23fa944",
   "metadata": {},
   "outputs": [],
   "source": [
    "time.sleep(6)\n",
    "records=[]\n",
    "for i in range(1):\n",
    "    data = driver.page_source\n",
    "    soup = bs4.BeautifulSoup(data)\n",
    "    el=soup.select(\".row>div\")\n",
    "    for e in el:\n",
    "        name = e.select_one(\"div.col-xs-2-4 > a:nth-child(1) > div:nth-child(1) > div:nth-child(1) > div:nth-child(2) > div:nth-child(1) > div:nth-child(1) > div:nth-child(1)\").text.strip()\n",
    "        try:\n",
    "            p = e.select_one(\"div.col-xs-2-4 > a > div:nth-child(1) > div:nth-child(1) > div:nth-child(2) > div:nth-child(2) > div:nth-child(2)\").text.strip()\n",
    "            if p == '':\n",
    "                print(1/0)\n",
    "        except:\n",
    "            p = e.select_one(\"div.col-xs-2-4 > a:nth-child(1) > div:nth-child(1) > div:nth-child(1) > div:nth-child(2) > div:nth-child(2) > div:nth-child(1)\").text.strip()\n",
    "        p = p.replace(\",\", \"\").replace(\"฿\", \"\").replace(\" \", \"\")\n",
    "        try:\n",
    "            start_price = float(p)\n",
    "        except:\n",
    "            price = p.rpartition('-')[0]\n",
    "            start_price = float(price)\n",
    "\n",
    "        sales = e.select_one(\"div.col-xs-2-4 > a:nth-child(1) > div:nth-child(1) > div:nth-child(1) > div:nth-child(2) > div:nth-child(3)\").text.strip().replace(\"พัน\",\"000\").replace(\"ล้าน\",\"000000\")\n",
    "        try:\n",
    "            sales = float(re.sub('\\D','',sales))\n",
    "        except:\n",
    "            sales = 0\n",
    "        province = e.select_one(\"div.col-xs-2-4 > a:nth-child(1) > div:nth-child(1) > div:nth-child(1) > div:nth-child(2) > div:nth-child(4)\").text.strip()\n",
    "        #print(name, p)\n",
    "        records.append([name, start_price,sales,province])"
   ]
  },
  {
   "cell_type": "code",
   "execution_count": null,
   "id": "feed21da",
   "metadata": {},
   "outputs": [],
   "source": [
    "len(records)"
   ]
  },
  {
   "cell_type": "markdown",
   "id": "3640ef6a",
   "metadata": {},
   "source": [
    "## นำข้อมูลที่ได้ใส่ลงใน DataFrame"
   ]
  },
  {
   "cell_type": "code",
   "execution_count": null,
   "id": "4b7e331e",
   "metadata": {},
   "outputs": [],
   "source": [
    "#ทำเป็น DataFrame\n",
    "df = pd.DataFrame(records, columns=['itemname','price range','sales','province'])\n",
    "df"
   ]
  },
  {
   "cell_type": "markdown",
   "id": "3532e6f5",
   "metadata": {},
   "source": [
    "แปลงเป็นไฟล์ Excel บันทึกอักษรเป็นแบบ มาตรฐาน UTF-8"
   ]
  },
  {
   "cell_type": "code",
   "execution_count": null,
   "id": "d85e37f0",
   "metadata": {},
   "outputs": [],
   "source": [
    "df.to_excel('Shopee_Computer.xlsx', encoding='utf-8')"
   ]
  }
 ],
 "metadata": {
  "kernelspec": {
   "display_name": "Python 3.9.5 ('base')",
   "language": "python",
   "name": "python3"
  },
  "language_info": {
   "codemirror_mode": {
    "name": "ipython",
    "version": 3
   },
   "file_extension": ".py",
   "mimetype": "text/x-python",
   "name": "python",
   "nbconvert_exporter": "python",
   "pygments_lexer": "ipython3",
   "version": "3.9.5"
  },
  "vscode": {
   "interpreter": {
    "hash": "19d1d53a962d236aa061289c2ac16dc8e6d9648c89fe79f459ae9a3493bc67b4"
   }
  }
 },
 "nbformat": 4,
 "nbformat_minor": 5
}
